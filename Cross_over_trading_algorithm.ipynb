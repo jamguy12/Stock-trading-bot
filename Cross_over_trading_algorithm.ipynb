{
 "cells": [
  {
   "cell_type": "code",
   "execution_count": null,
   "metadata": {},
   "outputs": [],
   "source": [
    "import numpy             as np\n",
    "import matplotlib.pyplot as plt\n",
    "%matplotlib inline\n",
    "from scipy.optimize      import fsolve, curve_fit\n",
    "from scipy.integrate     import odeint, quad\n",
    "from scipy.interpolate   import interp1d\n",
    "from scipy.misc          import derivative\n",
    "import scipy.constants   as const\n",
    "import sympy             as sp\n",
    "sp.init_printing()\n",
    "import glob\n",
    "import time\n",
    "import math\n",
    "import alpaca_trade_api as tradeapi\n",
    "from alpaca_trade_api import StreamConn\n",
    "import threading\n",
    "import time\n",
    "import datetime\n",
    "import logging\n",
    "import argparse\n",
    "import time\n",
    "import pandas as pd\n",
    "ALPACA_BASE_URL ='https://paper-api.alpaca.markets';\n",
    "KEY = 'PK6Q22HTB5JPL4O35ZHM'\n",
    "SCRKEY = 'sqv5r84hE7j1rqDVtUH5yC9qUEhJoND07DvuK3mG'\n",
    "\n",
    "from lxml import html\n",
    "import requests\n",
    "import json\n",
    "import argparse\n",
    "from collections import OrderedDict"
   ]
  },
  {
   "cell_type": "code",
   "execution_count": null,
   "metadata": {},
   "outputs": [],
   "source": [
    "def ski(symbol, large=15, medium=10, small=5, time_scale = 'day'):\n",
    "    #EMA\n",
    "    api = tradeapi.REST(KEY, SCRKEY, ALPACA_BASE_URL, api_version='v2')\n",
    "    Data = api.get_barset(symbol, time_scale, limit=1000).df\n",
    "    LEMA = Data[symbol]['close'].rolling(window=large).mean()\n",
    "    MEMA = Data[symbol]['close'].rolling(window=medium).mean()\n",
    "    SEMA = Data[symbol]['close'].rolling(window=small).mean()\n",
    "    \n",
    "    #ski small\n",
    "    #ski_s = (SEMA[-1]-MEMA[-1])/MEMA[-1]*100\n",
    "    \n",
    "    #ski large\n",
    "    ski_l = (MEMA[-1]-LEMA[-1])/LEMA[-1]*100\n",
    "    \n",
    "    #delta ski\n",
    "    Δski = ski_l\n",
    "    return Δski"
   ]
  },
  {
   "cell_type": "markdown",
   "metadata": {},
   "source": [
    "### EVALUATION"
   ]
  },
  {
   "cell_type": "code",
   "execution_count": null,
   "metadata": {},
   "outputs": [],
   "source": [
    "def evaluation(stocks, Large=15, Medium=10, Small=5, Time_scale = 'day', accepted=10):\n",
    "    #LISTING SKI VALUES\n",
    "    List = []\n",
    "    for i in range(len(stocks)):\n",
    "        try: #symbol, large=15, medium=10, small=5, time_scale = 'day'\n",
    "            List.append([stocks[i], ski(stocks[i], large=Large, medium=Medium, small=Small, time_scale = Time_scale)])\n",
    "        #time.sleep()\n",
    "        except:\n",
    "            List.append([stocks[i], 0])\n",
    "    \n",
    "    #DELETING NULL VALUED MEMBERS\n",
    "    values = []\n",
    "    for row in List:\n",
    "        values.append(row[-1])    \n",
    "    for i in range(len(List)):\n",
    "        if pd.notnull(values[i])== False:\n",
    "            del List[i]\n",
    "     \n",
    "    #SORTING     \n",
    "    value_list = []\n",
    "    for rows in List:\n",
    "        value_list.append(rows[-1])\n",
    "    b = sorted(value_list)\n",
    "    List_sorted = []\n",
    "    for i in range(len(b)):\n",
    "        INDEX = value_list.index(b[i])\n",
    "        List_sorted.append((List[INDEX]))\n",
    "        \n",
    "    #LIST OF BEST STOCKS\n",
    "    Best       = []\n",
    "    for row in List_sorted:\n",
    "        Best.append(row[0])\n",
    "    return List_sorted[-accepted:], Best[-accepted:]"
   ]
  },
  {
   "cell_type": "markdown",
   "metadata": {},
   "source": [
    "## The bounty jumper"
   ]
  },
  {
   "cell_type": "markdown",
   "metadata": {},
   "source": [
    "#### PID BUYING COEFFICIENT"
   ]
  },
  {
   "cell_type": "code",
   "execution_count": null,
   "metadata": {},
   "outputs": [],
   "source": [
    "def QUANTITY(CLOSE,L0 = 110000):\n",
    "    api = tradeapi.REST(KEY, SCRKEY, ALPACA_BASE_URL, api_version='v2')\n",
    "    account = api.get_account()\n",
    "    \n",
    "    MONEY        = int(float(account.buying_power))-300000\n",
    "    MONEY_TO_BUY = 0.005*MONEY\n",
    "    N            = math.ceil(MONEY_TO_BUY/CLOSE)\n",
    "    return N"
   ]
  },
  {
   "cell_type": "code",
   "execution_count": null,
   "metadata": {},
   "outputs": [],
   "source": [
    "%%time\n",
    "QUANTITY(10)"
   ]
  },
  {
   "cell_type": "code",
   "execution_count": null,
   "metadata": {},
   "outputs": [],
   "source": [
    "def Crossover(symbol, large=20, medium=15, small=5):\n",
    "    \n",
    "    #try:\n",
    "        api = tradeapi.REST(KEY, SCRKEY, ALPACA_BASE_URL, api_version='v2')\n",
    "        sb = api.get_barset(symbol, 'minute', limit = 3).df    \n",
    "        update = []\n",
    "        \n",
    "        #CALCULATING THE TIME\n",
    "        import time \n",
    "        TIME = time.localtime()\n",
    "        minute = TIME.tm_min\n",
    "        hr = TIME.tm_hour   \n",
    "        if hr==7 and minute>28 or hr==13 and minute<40 or 13>hr>=8:\n",
    "            t = 1\n",
    "        else:\n",
    "            t = 0\n",
    "        \n",
    "        #QUANTITY\n",
    "        try:\n",
    "            position = api.get_position(symbol)  #will this give me other useful data?\n",
    "            quantity = position.qty\n",
    "        except:\n",
    "            quantity = 0\n",
    "            update.append(',Market closed')\n",
    "        #GETTING COHLV DATA\n",
    "        close = sb[symbol]['close']\n",
    "        open  = sb[symbol]['open']\n",
    "        high  = sb[symbol]['high']\n",
    "        low   = sb[symbol]['low']\n",
    "        volume= sb[symbol]['volume']\n",
    "    \n",
    "        #EMA\n",
    "        Data = api.get_barset(symbol, 'minute', limit=100).df\n",
    "        LEMA = Data[symbol]['close'].rolling(window=large).mean()\n",
    "        MEMA = Data[symbol]['close'].rolling(window=medium).mean()\n",
    "        SEMA = Data[symbol]['close'].rolling(window=small).mean()\n",
    "        \n",
    "        #BUY\n",
    "        if LEMA[-1]<MEMA[-1] and t==1 and close[1]>open[1]:\n",
    "            api.submit_order(symbol, QUANTITY(close[1]), 'buy', 'market', 'day')  #consider making a limit order to prevent buying late into the game\n",
    "            update.append(f'bought at {close[1]}')\n",
    "        #SELL AT PLATEAU\n",
    "        try:        \n",
    "            if close[1]<open[1] and int(quantity)>0 and t==1:  # compare last two opens? #use a small EMA and copmare the 3 and last element, 2nd and last if on the 2nd\n",
    "                api.submit_order(symbol, int(quantity),'sell', 'market', 'day')\n",
    "                update.append(f'sold at {close[1]}')\n",
    "        #SELL AT END OF DAY \n",
    "            if hr == 13 and minute>40 and int(quantity)>0:\n",
    "                api.submit_order(symbol, int(quantity), 'sell', 'market', 'day')\n",
    "                update.append(f'sold at {close[1]}')\n",
    "        except:\n",
    "            update.append(',Failure to sell')\n",
    "        return print(symbol, ':', update)"
   ]
  },
  {
   "cell_type": "code",
   "execution_count": null,
   "metadata": {},
   "outputs": [],
   "source": [
    "stocks = ('TSLA','ACB', 'STLA','F', 'AFRM','PKI','GE',\n",
    "          'MSGM','PLUG','CGEM','SPCE','CCL','OGI',\n",
    "          'HEXO','IDEX','TLRY','BNGO','RIOT', 'DRVN','TSLA','SHOP', 'API','NVAX', 'NTIC', 'COHU', 'UFS', 'FLGT', \n",
    "          'LPX')\n",
    "A = evaluation(stocks)[1]\n",
    "#use profit predicting code to add highest 5 out of 30 stocks based on highest yesterday\n",
    "import asyncio\n",
    "times = []\n",
    "times.append(0)\n",
    "\n",
    "j = 0   #async here and for the websocket   \n",
    "while True:\n",
    "    try:\n",
    "        for i in range(len(A)):\n",
    "            close = Crossover(A[i])\n",
    "            print(close)\n",
    "        times.append(time.localtime().tm_sec)\n",
    "        j+=1\n",
    "        print('time:',(times[j]-times[j-1])/len(stocks))\n",
    "        time.sleep(1)\n",
    "    except:\n",
    "        print('retrying to call function')\n",
    "#async to make the process faster, here and above\n",
    "#make sure that I only buy at the beggining of the minute and not throughout.  \n",
    "#use the order number example from alpaca examples to calculate the profit after each sell\n",
    "#trading strategy: if ema is relatively linear and m>0 buy at the current EMA price (limit order ) and sell at predicted price in a short time\n"
   ]
  },
  {
   "cell_type": "code",
   "execution_count": null,
   "metadata": {},
   "outputs": [],
   "source": [
    "#find out which stocks have the largest average magnitude over several days/ what is the most populated interval\n",
    "#https://alpaca.markets/learn/algorithmic-trading-chart-pattern-python/\n",
    "#go through all stock symbols, alpaca, label, and pick the best.  "
   ]
  },
  {
   "cell_type": "markdown",
   "metadata": {},
   "source": [
    "### Analysis"
   ]
  },
  {
   "cell_type": "code",
   "execution_count": null,
   "metadata": {
    "scrolled": true
   },
   "outputs": [],
   "source": [
    "api = tradeapi.REST(KEY, SCRKEY, ALPACA_BASE_URL, api_version='v2')\n",
    "sb = api.get_barset('NVDA', 'minute', limit = 100).df   \n",
    "high  = sb['NVDA']['high']\n",
    "a = np.flip(high.values)\n"
   ]
  },
  {
   "cell_type": "code",
   "execution_count": null,
   "metadata": {},
   "outputs": [],
   "source": [
    "fig=plt.figure(figsize=(10,8), dpi= 50, facecolor='w', edgecolor='k')\n",
    "t = np.flip(high.index)\n",
    "#t = (high.index)\n",
    "D = a\n",
    "plt.plot(t,a)\n",
    "plt.xticks(rotation=45);\n",
    "\n",
    "plt.show()"
   ]
  }
 ],
 "metadata": {
  "kernelspec": {
   "display_name": "Python 3",
   "language": "python",
   "name": "python3"
  },
  "language_info": {
   "codemirror_mode": {
    "name": "ipython",
    "version": 3
   },
   "file_extension": ".py",
   "mimetype": "text/x-python",
   "name": "python",
   "nbconvert_exporter": "python",
   "pygments_lexer": "ipython3",
   "version": "3.8.3"
  }
 },
 "nbformat": 4,
 "nbformat_minor": 4
}
